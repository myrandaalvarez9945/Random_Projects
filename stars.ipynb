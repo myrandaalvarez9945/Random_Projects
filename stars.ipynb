{
 "cells": [
  {
   "cell_type": "code",
   "execution_count": 1,
   "metadata": {},
   "outputs": [
    {
     "name": "stdout",
     "output_type": "stream",
     "text": [
      "Requirement already satisfied: pandas in c:\\users\\myranda\\appdata\\local\\packages\\pythonsoftwarefoundation.python.3.11_qbz5n2kfra8p0\\localcache\\local-packages\\python311\\site-packages (2.2.2)\n",
      "Requirement already satisfied: numpy>=1.23.2 in c:\\users\\myranda\\appdata\\local\\packages\\pythonsoftwarefoundation.python.3.11_qbz5n2kfra8p0\\localcache\\local-packages\\python311\\site-packages (from pandas) (2.0.1)\n",
      "Requirement already satisfied: python-dateutil>=2.8.2 in c:\\users\\myranda\\appdata\\local\\packages\\pythonsoftwarefoundation.python.3.11_qbz5n2kfra8p0\\localcache\\local-packages\\python311\\site-packages (from pandas) (2.9.0.post0)\n",
      "Requirement already satisfied: pytz>=2020.1 in c:\\users\\myranda\\appdata\\local\\packages\\pythonsoftwarefoundation.python.3.11_qbz5n2kfra8p0\\localcache\\local-packages\\python311\\site-packages (from pandas) (2024.1)\n",
      "Requirement already satisfied: tzdata>=2022.7 in c:\\users\\myranda\\appdata\\local\\packages\\pythonsoftwarefoundation.python.3.11_qbz5n2kfra8p0\\localcache\\local-packages\\python311\\site-packages (from pandas) (2024.1)\n",
      "Requirement already satisfied: six>=1.5 in c:\\users\\myranda\\appdata\\local\\packages\\pythonsoftwarefoundation.python.3.11_qbz5n2kfra8p0\\localcache\\local-packages\\python311\\site-packages (from python-dateutil>=2.8.2->pandas) (1.16.0)\n",
      "Note: you may need to restart the kernel to use updated packages.\n"
     ]
    },
    {
     "name": "stderr",
     "output_type": "stream",
     "text": [
      "\n",
      "[notice] A new release of pip is available: 24.0 -> 24.2\n",
      "[notice] To update, run: C:\\Users\\Myranda\\AppData\\Local\\Microsoft\\WindowsApps\\PythonSoftwareFoundation.Python.3.11_qbz5n2kfra8p0\\python.exe -m pip install --upgrade pip\n"
     ]
    },
    {
     "name": "stdout",
     "output_type": "stream",
     "text": [
      "Requirement already satisfied: pygame in c:\\users\\myranda\\appdata\\local\\packages\\pythonsoftwarefoundation.python.3.11_qbz5n2kfra8p0\\localcache\\local-packages\\python311\\site-packages (2.6.0)\n",
      "Note: you may need to restart the kernel to use updated packages.\n"
     ]
    },
    {
     "name": "stderr",
     "output_type": "stream",
     "text": [
      "\n",
      "[notice] A new release of pip is available: 24.0 -> 24.2\n",
      "[notice] To update, run: C:\\Users\\Myranda\\AppData\\Local\\Microsoft\\WindowsApps\\PythonSoftwareFoundation.Python.3.11_qbz5n2kfra8p0\\python.exe -m pip install --upgrade pip\n"
     ]
    }
   ],
   "source": [
    "%pip install pandas\n",
    "%pip install pygame"
   ]
  },
  {
   "cell_type": "code",
   "execution_count": 10,
   "metadata": {},
   "outputs": [
    {
     "ename": "SystemExit",
     "evalue": "",
     "output_type": "error",
     "traceback": [
      "An exception has occurred, use %tb to see the full traceback.\n",
      "\u001b[1;31mSystemExit\u001b[0m\n"
     ]
    },
    {
     "name": "stderr",
     "output_type": "stream",
     "text": [
      "C:\\Users\\Myranda\\AppData\\Local\\Packages\\PythonSoftwareFoundation.Python.3.11_qbz5n2kfra8p0\\LocalCache\\local-packages\\Python311\\site-packages\\IPython\\core\\interactiveshell.py:3585: UserWarning: To exit: use 'exit', 'quit', or Ctrl-D.\n",
      "  warn(\"To exit: use 'exit', 'quit', or Ctrl-D.\", stacklevel=1)\n"
     ]
    }
   ],
   "source": [
    "import pygame\n",
    "import sys\n",
    "import pandas as pd\n",
    "\n",
    "# Load the GAIA dataset\n",
    "file_path = 'map_object_list.csv'\n",
    "gaia_data = pd.read_csv(file_path)\n",
    "\n",
    "# Initialize Pygame\n",
    "pygame.init()\n",
    "screen = pygame.display.set_mode((800, 600))\n",
    "pygame.display.set_caption('Virtual Telescope')\n",
    "font = pygame.font.SysFont(None, 24)\n",
    "\n",
    "# Define colors\n",
    "BLACK = (0, 0, 0)\n",
    "WHITE = (255, 255, 255)\n",
    "YELLOW = (255, 255, 0)\n",
    "BLUE = (0, 0, 255)\n",
    "GREEN = (0, 255, 0)\n",
    "RED = (255, 0, 0)\n",
    "HIGHLIGHT = (255, 0, 255)\n",
    "\n",
    "# Starting position and zoom factor of the telescope\n",
    "telescope_glon = 0\n",
    "telescope_glat = 0\n",
    "zoom_factor = 1.0\n",
    "base_star_size = 2\n",
    "\n",
    "# Selected star information\n",
    "selected_star_info = None\n",
    "highlighted_star_info = None\n",
    "\n",
    "# Function to convert galactic coordinates to screen coordinates\n",
    "def convert_to_screen_coords(glon, glat, telescope_glon, telescope_glat, zoom_factor, screen_width, screen_height):\n",
    "    x = (glon - telescope_glon + 360) % 360 - 180  # Handle wrap-around at 0/360 degrees\n",
    "    y = glat - telescope_glat\n",
    "    x = (x + 180) * screen_width / 360.0 * zoom_factor\n",
    "    y = (90 - y) * screen_height / 180.0 * zoom_factor\n",
    "    return int(x), int(y)\n",
    "\n",
    "# Function to check if a point is near a star\n",
    "def is_near(x1, y1, x2, y2, threshold):\n",
    "    return abs(x1 - x2) < threshold and abs(y1 - y2) < threshold\n",
    "\n",
    "# Function to get color based on distance\n",
    "def get_star_color(distance):\n",
    "    if distance < 1000:\n",
    "        return RED\n",
    "    elif distance < 2000:\n",
    "        return YELLOW\n",
    "    elif distance < 3000:\n",
    "        return GREEN\n",
    "    else:\n",
    "        return WHITE\n",
    "\n",
    "# Function to get star size based on distance\n",
    "def get_star_size(distance):\n",
    "    if distance < 1000:\n",
    "        return 5\n",
    "    elif distance < 2000:\n",
    "        return 4\n",
    "    elif distance < 3000:\n",
    "        return 3\n",
    "    else:\n",
    "        return 2\n",
    "\n",
    "# Main loop\n",
    "while True:\n",
    "    highlighted_star_info = None\n",
    "    for event in pygame.event.get():\n",
    "        if event.type == pygame.QUIT:\n",
    "            pygame.quit()\n",
    "            sys.exit()\n",
    "        if event.type == pygame.MOUSEBUTTONDOWN:\n",
    "            mouse_x, mouse_y = event.pos\n",
    "            for index, star in gaia_data.iterrows():\n",
    "                glon, glat, name, distance = star['glon'], star['glat'], star['name'], star['distance (parsecs)']\n",
    "                x, y = convert_to_screen_coords(glon, glat, telescope_glon, telescope_glat, zoom_factor, 800, 600)\n",
    "                if is_near(mouse_x, mouse_y, x, y, max(5, int(base_star_size * zoom_factor))):\n",
    "                    selected_star_info = f\"Name: {name}\\nGlon: {glon}\\nGlat: {glat}\\nDistance: {distance} parsecs\"\n",
    "                    break\n",
    "\n",
    "    keys = pygame.key.get_pressed()\n",
    "    if keys[pygame.K_LEFT]:\n",
    "        telescope_glon -= 1 / zoom_factor\n",
    "    if keys[pygame.K_RIGHT]:\n",
    "        telescope_glon += 1 / zoom_factor\n",
    "    if keys[pygame.K_UP]:\n",
    "        telescope_glat += 1 / zoom_factor\n",
    "    if keys[pygame.K_DOWN]:\n",
    "        telescope_glat -= 1 / zoom_factor\n",
    "    if keys[pygame.K_EQUALS] or keys[pygame.K_PLUS]:  # Zoom in using Shift +\n",
    "        zoom_factor *= 1.1\n",
    "    if keys[pygame.K_MINUS]:  # Zoom out using Shift -\n",
    "        zoom_factor /= 1.1\n",
    "\n",
    "    # Keep telescope_glat within valid range\n",
    "    if telescope_glat > 90:\n",
    "        telescope_glat = 90\n",
    "    if telescope_glat < -90:\n",
    "        telescope_glat = -90\n",
    "\n",
    "    # Clear the screen\n",
    "    screen.fill(BLACK)\n",
    "\n",
    "    # Draw stars\n",
    "    for index, star in gaia_data.iterrows():\n",
    "        glon, glat, name, distance = star['glon'], star['glat'], star['name'], star['distance (parsecs)']\n",
    "        x, y = convert_to_screen_coords(glon, glat, telescope_glon, telescope_glat, zoom_factor, 800, 600)\n",
    "        if 0 <= x < 800 and 0 <= y < 600:  # Draw only if within screen bounds\n",
    "            star_color = get_star_color(distance)\n",
    "            star_size = get_star_size(distance)  # Adjust star size based on distance\n",
    "            pygame.draw.circle(screen, star_color, (x, y), star_size)\n",
    "\n",
    "            # Highlight star on hover\n",
    "            mouse_x, mouse_y = pygame.mouse.get_pos()\n",
    "            if is_near(mouse_x, mouse_y, x, y, max(5, int(base_star_size * zoom_factor))):\n",
    "                pygame.draw.circle(screen, HIGHLIGHT, (x, y), star_size + 2)\n",
    "                highlighted_star_info = f\"Name: {name}\\nGlon: {glon}\\nGlat: {glat}\\nDistance: {distance} parsecs\"\n",
    "\n",
    "    # Display selected star information\n",
    "    if selected_star_info:\n",
    "        info_surface = font.render(selected_star_info, True, YELLOW)\n",
    "        screen.blit(info_surface, (10, 10))\n",
    "    \n",
    "    # Display highlighted star information\n",
    "    if highlighted_star_info:\n",
    "        highlight_surface = font.render(highlighted_star_info, True, HIGHLIGHT)\n",
    "        screen.blit(highlight_surface, (10, 40))\n",
    "\n",
    "    pygame.display.flip()"
   ]
  }
 ],
 "metadata": {
  "kernelspec": {
   "display_name": "Python 3",
   "language": "python",
   "name": "python3"
  },
  "language_info": {
   "codemirror_mode": {
    "name": "ipython",
    "version": 3
   },
   "file_extension": ".py",
   "mimetype": "text/x-python",
   "name": "python",
   "nbconvert_exporter": "python",
   "pygments_lexer": "ipython3",
   "version": "3.11.9"
  }
 },
 "nbformat": 4,
 "nbformat_minor": 2
}
